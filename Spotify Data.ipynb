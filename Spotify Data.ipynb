{
 "cells": [
  {
   "cell_type": "code",
   "execution_count": 22,
   "id": "0076e5c6-0f29-48ac-ac9e-a762e99288b6",
   "metadata": {},
   "outputs": [],
   "source": [
    "import pandas as pd\n",
    "from matplotlib import pyplot as plt\n",
    "import seaborn as sns"
   ]
  },
  {
   "cell_type": "code",
   "execution_count": 10,
   "id": "bb37eada-5039-4127-9511-ac13ff0f529e",
   "metadata": {},
   "outputs": [
    {
     "name": "stdout",
     "output_type": "stream",
     "text": [
      "                                Track                        Album Name  \\\n",
      "0                 MILLION DOLLAR BABY      Million Dollar Baby - Single   \n",
      "1                         Not Like Us                       Not Like Us   \n",
      "2          i like the way you kiss me        I like the way you kiss me   \n",
      "3                             Flowers                  Flowers - Single   \n",
      "4                             Houdini                           Houdini   \n",
      "...                               ...                               ...   \n",
      "4595                For the Last Time                 For the Last Time   \n",
      "4596                 Dil Meri Na Sune  Dil Meri Na Sune (From \"Genius\")   \n",
      "4597            Grace (feat. 42 Dugg)                           My Turn   \n",
      "4598              Nashe Si Chadh Gayi             November Top 10 Songs   \n",
      "4599  Me Acostumbre (feat. Bad Bunny)   Me Acostumbre (feat. Bad Bunny)   \n",
      "\n",
      "              Artist Release Date          ISRC All Time Rank  Track Score  \\\n",
      "0      Tommy Richman    4/26/2024  QM24S2402528             1        725.4   \n",
      "1     Kendrick Lamar     5/4/2024  USUG12400910             2        545.9   \n",
      "2            Artemas    3/19/2024  QZJ842400387             3        538.4   \n",
      "3        Miley Cyrus    1/12/2023  USSM12209777             4        444.9   \n",
      "4             Eminem    5/31/2024  USUG12403398             5        423.3   \n",
      "...              ...          ...           ...           ...          ...   \n",
      "4595     $uicideboy$     9/5/2017  QM8DG1703420         4,585         19.4   \n",
      "4596      Atif Aslam    7/27/2018  INT101800122         4,575         19.4   \n",
      "4597        Lil Baby    2/28/2020  USUG12000043         4,571         19.4   \n",
      "4598    Arijit Singh    11/8/2016  INY091600067         4,591         19.4   \n",
      "4599           Arc��    4/11/2017  USB271700107         4,593         19.4   \n",
      "\n",
      "     Spotify Streams Spotify Playlist Count Spotify Playlist Reach  ...  \\\n",
      "0        390,470,936                 30,716            196,631,588  ...   \n",
      "1        323,703,884                 28,113            174,597,137  ...   \n",
      "2        601,309,283                 54,331            211,607,669  ...   \n",
      "3      2,031,280,633                269,802            136,569,078  ...   \n",
      "4        107,034,922                  7,223            151,469,874  ...   \n",
      "...              ...                    ...                    ...  ...   \n",
      "4595     305,049,963                 65,770              5,103,054  ...   \n",
      "4596      52,282,360                  4,602              1,449,767  ...   \n",
      "4597     189,972,685                 72,066              6,704,802  ...   \n",
      "4598     145,467,020                 14,037              7,387,064  ...   \n",
      "4599     255,740,653                 32,138             14,066,526  ...   \n",
      "\n",
      "      SiriusXM Spins Deezer Playlist Count Deezer Playlist Reach  \\\n",
      "0                684                  62.0            17,598,718   \n",
      "1                  3                  67.0            10,422,430   \n",
      "2                536                 136.0            36,321,847   \n",
      "3              2,182                 264.0            24,684,248   \n",
      "4                  1                  82.0            17,660,624   \n",
      "...              ...                   ...                   ...   \n",
      "4595             NaN                   2.0                14,217   \n",
      "4596             NaN                   1.0                   927   \n",
      "4597             NaN                   1.0                    74   \n",
      "4598             NaN                   NaN                   NaN   \n",
      "4599             NaN                   4.0               127,479   \n",
      "\n",
      "     Amazon Playlist Count Pandora Streams Pandora Track Stations  \\\n",
      "0                    114.0      18,004,655                 22,931   \n",
      "1                    111.0       7,780,028                 28,444   \n",
      "2                    172.0       5,022,621                  5,639   \n",
      "3                    210.0     190,260,277                203,384   \n",
      "4                    105.0       4,493,884                  7,006   \n",
      "...                    ...             ...                    ...   \n",
      "4595                   NaN      20,104,066                 13,184   \n",
      "4596                   NaN             NaN                    NaN   \n",
      "4597                   6.0      84,426,740                 28,999   \n",
      "4598                   7.0       6,817,840                    NaN   \n",
      "4599                   4.0      69,006,739                 11,320   \n",
      "\n",
      "     Soundcloud Streams  Shazam Counts TIDAL Popularity Explicit Track  \n",
      "0             4,818,457      2,669,262              NaN              0  \n",
      "1             6,623,075      1,118,279              NaN              1  \n",
      "2             7,208,651      5,285,340              NaN              0  \n",
      "3                   NaN     11,822,942              NaN              0  \n",
      "4               207,179        457,017              NaN              1  \n",
      "...                 ...            ...              ...            ...  \n",
      "4595         50,633,006        656,337              NaN              1  \n",
      "4596                NaN        193,590              NaN              0  \n",
      "4597                NaN      1,135,998              NaN              1  \n",
      "4598                NaN        448,292              NaN              0  \n",
      "4599                NaN        767,006              NaN              1  \n",
      "\n",
      "[4600 rows x 29 columns]\n"
     ]
    }
   ],
   "source": [
    "df = pd.read_csv('Most Streamed Spotify Songs 2024.csv')\n",
    "print(df)"
   ]
  },
  {
   "cell_type": "code",
   "execution_count": 11,
   "id": "5cf30625-db3b-4cd8-8eeb-e67bc9cdcb61",
   "metadata": {},
   "outputs": [],
   "source": [
    "artist = df['Artist']"
   ]
  },
  {
   "cell_type": "code",
   "execution_count": 12,
   "id": "6e5a0f4b-fafc-45d7-ac04-9904831c3dd6",
   "metadata": {},
   "outputs": [
    {
     "name": "stdout",
     "output_type": "stream",
     "text": [
      "0     390470936\n",
      "1     323703884\n",
      "2     601309283\n",
      "3    2031280633\n",
      "4     107034922\n",
      "Name: Spotify Streams, dtype: int64\n"
     ]
    }
   ],
   "source": [
    "streams = df['Spotify Streams'].dropna()\n",
    "streams = streams.str.replace(\",\", \"\").astype(int)\n",
    "print(streams.head())"
   ]
  },
  {
   "cell_type": "code",
   "execution_count": 13,
   "id": "b701b325-1c19-401c-bca0-d4ce3773bd41",
   "metadata": {},
   "outputs": [
    {
     "name": "stdout",
     "output_type": "stream",
     "text": [
      "447387314.7459327\n"
     ]
    }
   ],
   "source": [
    "print(streams.mean())"
   ]
  },
  {
   "cell_type": "code",
   "execution_count": 14,
   "id": "e9e7ad51-6f27-49d1-8d98-a60cc510ee3d",
   "metadata": {},
   "outputs": [
    {
     "name": "stdout",
     "output_type": "stream",
     "text": [
      "['Tommy Richman' 'Kendrick Lamar' 'Artemas' ... 'Kerim Araz'\n",
      " 'Jaques Raup�' 'BUSHIDO ZHO']\n"
     ]
    }
   ],
   "source": [
    "unique_artists = df['Artist'].unique()\n",
    "print(unique_artists)"
   ]
  },
  {
   "cell_type": "code",
   "execution_count": 15,
   "id": "83b2fe85-a80f-459b-acfd-e21a285b7336",
   "metadata": {},
   "outputs": [],
   "source": [
    "artist_stream_counts = df[\"Spotify Streams\"]"
   ]
  },
  {
   "cell_type": "code",
   "execution_count": 16,
   "id": "1ae02b8d-e866-4446-94de-311a82d075fb",
   "metadata": {},
   "outputs": [
    {
     "name": "stdout",
     "output_type": "stream",
     "text": [
      "0         390,470,936\n",
      "1         323,703,884\n",
      "2         601,309,283\n",
      "3       2,031,280,633\n",
      "4         107,034,922\n",
      "            ...      \n",
      "4595      305,049,963\n",
      "4596       52,282,360\n",
      "4597      189,972,685\n",
      "4598      145,467,020\n",
      "4599      255,740,653\n",
      "Name: Spotify Streams, Length: 4600, dtype: object\n"
     ]
    }
   ],
   "source": [
    "print(artist_stream_counts)"
   ]
  },
  {
   "cell_type": "code",
   "execution_count": 17,
   "id": "e8579c58-fa58-4d95-abd4-3afab20b1809",
   "metadata": {},
   "outputs": [],
   "source": [
    "table=df[[\"Artist\", \"Spotify Streams\"]] "
   ]
  },
  {
   "cell_type": "code",
   "execution_count": 18,
   "id": "5d83b86d-1abd-4778-9c6c-818a67ec1b10",
   "metadata": {},
   "outputs": [
    {
     "name": "stdout",
     "output_type": "stream",
     "text": [
      "              Artist Spotify Streams\n",
      "0      Tommy Richman     390,470,936\n",
      "1     Kendrick Lamar     323,703,884\n",
      "2            Artemas     601,309,283\n",
      "3        Miley Cyrus   2,031,280,633\n",
      "4             Eminem     107,034,922\n",
      "...              ...             ...\n",
      "4595     $uicideboy$     305,049,963\n",
      "4596      Atif Aslam      52,282,360\n",
      "4597        Lil Baby     189,972,685\n",
      "4598    Arijit Singh     145,467,020\n",
      "4599           Arc��     255,740,653\n",
      "\n",
      "[4600 rows x 2 columns]\n"
     ]
    }
   ],
   "source": [
    "print(table)"
   ]
  },
  {
   "cell_type": "code",
   "execution_count": 27,
   "id": "5a717f71-4ad2-4197-a252-5f5801d4c2d4",
   "metadata": {},
   "outputs": [],
   "source": [
    "sorted = table.sort_values(by = \"Spotify Streams\", ascending = False)"
   ]
  },
  {
   "cell_type": "code",
   "execution_count": 5,
   "id": "6717ab29-3b32-4e3b-a383-4b5a23930663",
   "metadata": {},
   "outputs": [
    {
     "name": "stdout",
     "output_type": "stream",
     "text": [
      "<built-in function sorted>\n"
     ]
    }
   ],
   "source": [
    "print(sorted)"
   ]
  },
  {
   "cell_type": "code",
   "execution_count": 20,
   "id": "bec2e621-9dc4-417a-b140-078444aea01e",
   "metadata": {},
   "outputs": [],
   "source": [
    "unique = sorted.drop_duplicates(subset = [\"Artist\"])"
   ]
  },
  {
   "cell_type": "code",
   "execution_count": 21,
   "id": "eedbcb88-0d0b-4e7b-9082-048ed66aafe9",
   "metadata": {},
   "outputs": [
    {
     "name": "stdout",
     "output_type": "stream",
     "text": [
      "                Artist Spotify Streams\n",
      "3157  American Authors     999,525,686\n",
      "137     Olivia Rodrigo     998,964,097\n",
      "44              Mitski     997,702,304\n",
      "1179        Gucci Mane     996,942,947\n",
      "2395             JRitt         996,881\n",
      "...                ...             ...\n",
      "4259         ELITE Djs             NaN\n",
      "4460         Muppet DJ             NaN\n",
      "4541        Baby Flaco             NaN\n",
      "4572        Bubbatrees             NaN\n",
      "4578             purpl             NaN\n",
      "\n",
      "[2000 rows x 2 columns]\n"
     ]
    }
   ],
   "source": [
    "print(unique)"
   ]
  },
  {
   "cell_type": "code",
   "execution_count": 83,
   "id": "aa284aeb-2fb9-4150-b078-e5de4f72c54a",
   "metadata": {},
   "outputs": [],
   "source": [
    "df[\"Spotify Streams\"] = df[\"Spotify Streams\"].replace(',', ' ').astype(float)"
   ]
  },
  {
   "cell_type": "code",
   "execution_count": 87,
   "id": "e5bb45c7-3774-4a1d-bb26-1fde829d5d45",
   "metadata": {},
   "outputs": [
    {
     "name": "stdout",
     "output_type": "stream",
     "text": [
      "                          Artist  Spotify Streams\n",
      "183                    Bad Bunny      37054834425\n",
      "1728                  The Weeknd      36948540278\n",
      "517                        Drake      34962157577\n",
      "1690                Taylor Swift      34470771165\n",
      "1428                 Post Malone      26137472958\n",
      "...                          ...              ...\n",
      "737                 Hassan Goldy                0\n",
      "746   Hollywood Dots The Oncelor                0\n",
      "750                    Hot Lemon                0\n",
      "770                       Ian G.                0\n",
      "0                           \"XY\"                0\n",
      "\n",
      "[1999 rows x 2 columns]\n"
     ]
    }
   ],
   "source": [
    "grouped = df.groupby(\"Artist\")[\"Spotify Streams\"].sum().reset_index()\n",
    "sorted_artists = grouped.sort_values(by=\"Spotify Streams\", ascending=False)\n",
    "print(sorted_artists)"
   ]
  },
  {
   "cell_type": "code",
   "execution_count": null,
   "id": "7836129c-0841-4a47-b09b-7140c12fc14a",
   "metadata": {},
   "outputs": [],
   "source": [
    "most_streams_artist = sorted_artists.loc[sorted_artists[\"Spotify Streams\"].idxmax()]\n",
    "print(most_streams_artist)"
   ]
  },
  {
   "cell_type": "code",
   "execution_count": 122,
   "id": "acb545e3-687a-41a4-97cb-e76619ab52ee",
   "metadata": {},
   "outputs": [
    {
     "name": "stdout",
     "output_type": "stream",
     "text": [
      "Artist with the most streams: Bad Bunny with 37054834425.0 streams.\n"
     ]
    }
   ],
   "source": [
    "print(f\"Artist with the most streams: {most_streams_artist['Artist']} with {most_streams_artist['Spotify Streams']} streams.\")"
   ]
  },
  {
   "cell_type": "code",
   "execution_count": null,
   "id": "29b0b235-93a0-4833-b39f-cb1fa0fbb6a3",
   "metadata": {},
   "outputs": [],
   "source": [
    "#plotting artist and streams"
   ]
  },
  {
   "cell_type": "code",
   "execution_count": 137,
   "id": "3f4d9829-fc32-4d35-8b25-f31c61df028c",
   "metadata": {},
   "outputs": [
    {
     "data": {
      "image/png": "[encoded data removed]",
      "text/plain": [
       "<Figure size 432x288 with 1 Axes>"
      ]
     },
     "metadata": {
      "needs_background": "light"
     },
     "output_type": "display_data"
    }
   ],
   "source": [
    "Popular_Artist = [\"Bad Bunny\",\"The Weeknd\",\"Drake\", \"Taylor Swift\", \"Post Malone\"]\n",
    "Total_Streams = [37054834425, 36948540278, 34962157577, 34470771165, 26137472958]\n",
    "\n",
    "plt.bar(Popular_Artist,Total_Streams, color = \"green\")\n",
    "plt.xlabel('Popular Artist')\n",
    "plt.ylabel('Streams in Billions')\n",
    "plt.show()"
   ]
  },
  {
   "cell_type": "code",
   "execution_count": null,
   "id": "2b114626-ffe9-403c-bf22-7fdf16defdcb",
   "metadata": {},
   "outputs": [],
   "source": []
  }
 ],
 "metadata": {
  "kernelspec": {
   "display_name": "Python 3",
   "language": "python",
   "name": "python3"
  },
  "language_info": {
   "codemirror_mode": {
    "name": "ipython",
    "version": 3
   },
   "file_extension": ".py",
   "mimetype": "text/x-python",
   "name": "python",
   "nbconvert_exporter": "python",
   "pygments_lexer": "ipython3",
   "version": "3.8.8"
  }
 },
 "nbformat": 4,
 "nbformat_minor": 5
}
